{
 "cells": [
  {
   "cell_type": "markdown",
   "id": "d10160f8",
   "metadata": {},
   "source": [
    "Q1. Embedding the query"
   ]
  },
  {
   "cell_type": "code",
   "execution_count": 9,
   "id": "08c2fc80",
   "metadata": {},
   "outputs": [],
   "source": [
    "model_handle = \"jinaai/jina-embeddings-v2-small-en\""
   ]
  },
  {
   "cell_type": "code",
   "execution_count": 42,
   "id": "eec9ddd6",
   "metadata": {},
   "outputs": [
    {
     "name": "stdout",
     "output_type": "stream",
     "text": [
      "(384,)\n"
     ]
    }
   ],
   "source": [
    "from fastembed import TextEmbedding\n",
    "import numpy as np\n",
    "\n",
    "embedder = TextEmbedding(model_name=model_handle)\n",
    "Q1_question = \"I just discovered the course. Can I join now?\"\n",
    "# Embed the query\n",
    "embedding = next(embedder.embed([Q1_question]))\n",
    "embedding = np.array(embedding)\n",
    "print(embedding.shape)  # Should print (512,)"
   ]
  },
  {
   "cell_type": "code",
   "execution_count": 11,
   "id": "2e3b2bbd",
   "metadata": {},
   "outputs": [
    {
     "data": {
      "text/plain": [
       "np.float64(-0.11726373885183883)"
      ]
     },
     "execution_count": 11,
     "metadata": {},
     "output_type": "execute_result"
    }
   ],
   "source": [
    "embedding.min()"
   ]
  },
  {
   "cell_type": "code",
   "execution_count": 12,
   "id": "c71be484",
   "metadata": {},
   "outputs": [
    {
     "data": {
      "text/plain": [
       "np.float64(1.0)"
      ]
     },
     "execution_count": 12,
     "metadata": {},
     "output_type": "execute_result"
    }
   ],
   "source": [
    "import numpy as np\n",
    "np.linalg.norm(embedding)"
   ]
  },
  {
   "cell_type": "code",
   "execution_count": 13,
   "id": "a2ac7162",
   "metadata": {},
   "outputs": [
    {
     "data": {
      "text/plain": [
       "np.float64(1.0000000000000002)"
      ]
     },
     "execution_count": 13,
     "metadata": {},
     "output_type": "execute_result"
    }
   ],
   "source": [
    "q = embedding\n",
    "q.dot(q)"
   ]
  },
  {
   "cell_type": "markdown",
   "id": "d53035a3",
   "metadata": {},
   "source": [
    "Q2. Cosine similarity with another vector"
   ]
  },
  {
   "cell_type": "code",
   "execution_count": 14,
   "id": "23a0ecbd",
   "metadata": {},
   "outputs": [
    {
     "data": {
      "text/plain": [
       "np.float64(0.9008528895674548)"
      ]
     },
     "execution_count": 14,
     "metadata": {},
     "output_type": "execute_result"
    }
   ],
   "source": [
    "doc = 'Can I still join the course after the start date?'\n",
    "# Embed the document\n",
    "doc_embedding = next(embedder.embed([doc]))\n",
    "doc_embedding = np.array(doc_embedding)\n",
    "\n",
    "# Compute cosine similarity\n",
    "cosine_similarity = np.dot(embedding, doc_embedding) / (np.linalg.norm(embedding) * np.linalg.norm(doc_embedding))\n",
    "cosine_similarity"
   ]
  },
  {
   "cell_type": "markdown",
   "id": "9116a659",
   "metadata": {},
   "source": [
    "Q3. Ranking by cosine"
   ]
  },
  {
   "cell_type": "code",
   "execution_count": 15,
   "id": "9ea9473d",
   "metadata": {},
   "outputs": [],
   "source": [
    "documents = [{'text': \"Yes, even if you don't register, you're still eligible to submit the homeworks.\\nBe aware, however, that there will be deadlines for turning in the final projects. So don't leave everything for the last minute.\",\n",
    "  'section': 'General course-related questions',\n",
    "  'question': 'Course - Can I still join the course after the start date?',\n",
    "  'course': 'data-engineering-zoomcamp'},\n",
    " {'text': 'Yes, we will keep all the materials after the course finishes, so you can follow the course at your own pace after it finishes.\\nYou can also continue looking at the homeworks and continue preparing for the next cohort. I guess you can also start working on your final capstone project.',\n",
    "  'section': 'General course-related questions',\n",
    "  'question': 'Course - Can I follow the course after it finishes?',\n",
    "  'course': 'data-engineering-zoomcamp'},\n",
    " {'text': \"The purpose of this document is to capture frequently asked technical questions\\nThe exact day and hour of the course will be 15th Jan 2024 at 17h00. The course will start with the first  “Office Hours'' live.1\\nSubscribe to course public Google Calendar (it works from Desktop only).\\nRegister before the course starts using this link.\\nJoin the course Telegram channel with announcements.\\nDon’t forget to register in DataTalks.Club's Slack and join the channel.\",\n",
    "  'section': 'General course-related questions',\n",
    "  'question': 'Course - When will the course start?',\n",
    "  'course': 'data-engineering-zoomcamp'},\n",
    " {'text': 'You can start by installing and setting up all the dependencies and requirements:\\nGoogle cloud account\\nGoogle Cloud SDK\\nPython 3 (installed with Anaconda)\\nTerraform\\nGit\\nLook over the prerequisites and syllabus to see if you are comfortable with these subjects.',\n",
    "  'section': 'General course-related questions',\n",
    "  'question': 'Course - What can I do before the course starts?',\n",
    "  'course': 'data-engineering-zoomcamp'},\n",
    " {'text': 'Star the repo! Share it with friends if you find it useful ❣️\\nCreate a PR if you see you can improve the text or the structure of the repository.',\n",
    "  'section': 'General course-related questions',\n",
    "  'question': 'How can we contribute to the course?',\n",
    "  'course': 'data-engineering-zoomcamp'}]"
   ]
  },
  {
   "cell_type": "code",
   "execution_count": 16,
   "id": "396f849b",
   "metadata": {},
   "outputs": [
    {
     "data": {
      "text/plain": [
       "[0.7629684696540238,\n",
       " 0.8182378150042889,\n",
       " 0.8085397398734189,\n",
       " 0.7133079015686243,\n",
       " 0.7304499234333598]"
      ]
     },
     "execution_count": 16,
     "metadata": {},
     "output_type": "execute_result"
    }
   ],
   "source": [
    "# Compute embeddings for the 'text' field of each document\n",
    "doc_embeddings = [np.array(next(embedder.embed([doc['text']]))) for doc in documents]\n",
    "\n",
    "# Compute cosine similarity between the query vector 'embedding' and each document embedding\n",
    "cosine_similarities = [\n",
    "    float(np.dot(embedding, doc_emb) / (np.linalg.norm(embedding) * np.linalg.norm(doc_emb)))\n",
    "    for doc_emb in doc_embeddings\n",
    "]\n",
    "\n",
    "cosine_similarities\n"
   ]
  },
  {
   "cell_type": "code",
   "execution_count": 17,
   "id": "b566725e",
   "metadata": {},
   "outputs": [
    {
     "data": {
      "text/plain": [
       "1"
      ]
     },
     "execution_count": 17,
     "metadata": {},
     "output_type": "execute_result"
    }
   ],
   "source": [
    "most_similar_idx = int(np.argmax(cosine_similarities))\n",
    "most_similar_idx"
   ]
  },
  {
   "cell_type": "markdown",
   "id": "f31a38c4",
   "metadata": {},
   "source": [
    "Q4. Ranking by cosine, version two"
   ]
  },
  {
   "cell_type": "code",
   "execution_count": 18,
   "id": "141328a4",
   "metadata": {},
   "outputs": [],
   "source": [
    "full_text_embeddings = [np.array(next(embedder.embed([doc['question'] + \" \" + doc['text']]))) for doc in documents]"
   ]
  },
  {
   "cell_type": "code",
   "execution_count": 20,
   "id": "c5f19bd8",
   "metadata": {},
   "outputs": [
    {
     "data": {
      "text/plain": [
       "[0.8514543236908068,\n",
       " 0.8436594159113068,\n",
       " 0.840828704850256,\n",
       " 0.7755157969663908,\n",
       " 0.8086007795043938]"
      ]
     },
     "execution_count": 20,
     "metadata": {},
     "output_type": "execute_result"
    }
   ],
   "source": [
    "# Normalize all full_text_embeddings\n",
    "full_text_embeddings_norm = [vec / np.linalg.norm(vec) for vec in full_text_embeddings]\n",
    "\n",
    "# Normalize the query embedding\n",
    "embedding_norm = embedding / np.linalg.norm(embedding)\n",
    "\n",
    "# Compute cosine similarities with the normalized query embedding\n",
    "cosine_similarities_full_text = [float(np.dot(embedding_norm, vec_norm)) for vec_norm in full_text_embeddings_norm]\n",
    "\n",
    "cosine_similarities_full_text"
   ]
  },
  {
   "cell_type": "code",
   "execution_count": 22,
   "id": "957a0eb3",
   "metadata": {},
   "outputs": [
    {
     "name": "stdout",
     "output_type": "stream",
     "text": [
      "Best matching document index: 0\n",
      "Highest cosine similarity: 0.8514543236908068\n",
      "Best matching document text: Yes, even if you don't register, you're still eligible to submit the homeworks.\n",
      "Be aware, however, that there will be deadlines for turning in the final projects. So don't leave everything for the last minute.\n"
     ]
    }
   ],
   "source": [
    "# Find the index of the highest scoring document\n",
    "best_idx = int(np.argmax(cosine_similarities_full_text))\n",
    "\n",
    "# Show the highest cosine similarity score and the corresponding document\n",
    "print(\"Best matching document index:\", best_idx)\n",
    "print(\"Highest cosine similarity:\", cosine_similarities_full_text[best_idx])\n",
    "print(\"Best matching document text:\", documents[best_idx]['text'])"
   ]
  },
  {
   "cell_type": "markdown",
   "id": "514364c4",
   "metadata": {},
   "source": [
    "Q5. Selecting the embedding model"
   ]
  },
  {
   "cell_type": "code",
   "execution_count": 31,
   "id": "b128e32f",
   "metadata": {},
   "outputs": [
    {
     "name": "stdout",
     "output_type": "stream",
     "text": [
      "Smallest embedding dimensionality in fastembed models: 384\n"
     ]
    }
   ],
   "source": [
    "min_dim = min(model[\"dim\"] for model in TextEmbedding.list_supported_models())\n",
    "print(\"Smallest embedding dimensionality in fastembed models:\", min_dim)"
   ]
  },
  {
   "cell_type": "markdown",
   "id": "a7ce5554",
   "metadata": {},
   "source": [
    "Q6. Indexing with qdrant"
   ]
  },
  {
   "cell_type": "code",
   "execution_count": 43,
   "id": "8bb00541",
   "metadata": {},
   "outputs": [
    {
     "name": "stdout",
     "output_type": "stream",
     "text": [
      "(384,)\n"
     ]
    }
   ],
   "source": [
    "model_handle = \"BAAI/bge-small-en\"\n",
    "embedder = TextEmbedding(model_name=model_handle)\n",
    "\n",
    "# Embed the query   \n",
    "embedding = next(embedder.embed([Q1_question]))\n",
    "# Convert to numpy array\"]))\n",
    "embedding = np.array(embedding)\n",
    "print(embedding.shape) "
   ]
  },
  {
   "cell_type": "code",
   "execution_count": 37,
   "id": "d4f978d6",
   "metadata": {},
   "outputs": [],
   "source": [
    "\n",
    "import requests \n",
    "\n",
    "docs_url = 'https://github.com/alexeygrigorev/llm-rag-workshop/raw/main/notebooks/documents.json'\n",
    "docs_response = requests.get(docs_url)\n",
    "documents_raw = docs_response.json()\n",
    "\n",
    "\n",
    "documents = []\n",
    "\n",
    "for course in documents_raw:\n",
    "    course_name = course['course']\n",
    "    if course_name != 'machine-learning-zoomcamp':\n",
    "        continue\n",
    "\n",
    "    for doc in course['documents']:\n",
    "        doc['course'] = course_name\n",
    "        documents.append(doc)"
   ]
  },
  {
   "cell_type": "code",
   "execution_count": 40,
   "id": "6bbd0487",
   "metadata": {},
   "outputs": [
    {
     "data": {
      "text/plain": [
       "UpdateResult(operation_id=0, status=<UpdateStatus.COMPLETED: 'completed'>)"
      ]
     },
     "execution_count": 40,
     "metadata": {},
     "output_type": "execute_result"
    }
   ],
   "source": [
    "from qdrant_client.http import models\n",
    "from qdrant_client import QdrantClient\n",
    "client = QdrantClient(\"http://localhost:6333\") #connecting to local Qdrant instance\n",
    "\n",
    "# Use the embedding dimension from the normalized embedding\n",
    "EMBEDDING_DIMENSIONALITY  = embedding.shape[0]  # Should be 384 for BAAI/bge-small-en\n",
    "\n",
    "\n",
    "# Create the collection if it doesn't exist\n",
    "collection_name = \"llm-zoomcamp-hw2-vector-search\"\n",
    "existing_collections = [col.name for col in client.get_collections().collections]\n",
    "if collection_name not in existing_collections:\n",
    "    client.create_collection(\n",
    "        collection_name=collection_name,\n",
    "        vectors_config=models.VectorParams(\n",
    "            size=EMBEDDING_DIMENSIONALITY,\n",
    "            distance=models.Distance.COSINE\n",
    "        )\n",
    "    )\n",
    "# Prepare normalized embeddings using both question and answer fields\n",
    "full_text_embeddings_norm = [\n",
    "    vec / np.linalg.norm(vec) for vec in [\n",
    "        np.array(next(embedder.embed([doc['question'] + \" \" + doc['text']])))\n",
    "        for doc in documents\n",
    "    ]\n",
    "]\n",
    "# Prepare points for upsert\n",
    "points = []\n",
    "for idx, vec in enumerate(full_text_embeddings_norm):\n",
    "    point = models.PointStruct(\n",
    "        id=idx,\n",
    "        vector=vec.tolist(),\n",
    "        payload={\n",
    "            \"text\": documents[idx]['text'],\n",
    "            \"question\": documents[idx]['question'],\n",
    "            \"section\": documents[idx]['section'],\n",
    "            \"course\": documents[idx]['course']\n",
    "        }\n",
    "    )\n",
    "    points.append(point)\n",
    "\n",
    "# Upsert points into Qdrant\n",
    "client.upsert(\n",
    "    collection_name=collection_name,\n",
    "    points=points\n",
    ")"
   ]
  },
  {
   "cell_type": "code",
   "execution_count": 45,
   "id": "c28b96d3",
   "metadata": {},
   "outputs": [
    {
     "data": {
      "text/plain": [
       "QueryResponse(points=[ScoredPoint(id=14, version=0, score=0.8703172, payload={'text': 'Yes, you can. You won’t be able to submit some of the homeworks, but you can still take part in the course.\\nIn order to get a certificate, you need to submit 2 out of 3 course projects and review 3 peers’ Projects by the deadline. It means that if you join the course at the end of November and manage to work on two projects, you will still be eligible for a certificate.', 'question': 'The course has already started. Can I still join it?', 'section': 'General course-related questions', 'course': 'machine-learning-zoomcamp'}, vector=None, shard_key=None, order_value=None)])"
      ]
     },
     "execution_count": 45,
     "metadata": {},
     "output_type": "execute_result"
    }
   ],
   "source": [
    "def search(query, limit=1):\n",
    "\tresults = client.query_points(\n",
    "\t\tcollection_name=collection_name,\n",
    "\t\tquery=models.Document(\n",
    "\t\t\ttext=query,\n",
    "\t\t\tmodel=model_handle \n",
    "\t\t),\n",
    "\t\tlimit=limit,\n",
    "\t\twith_payload=True\n",
    "\t)\n",
    "\treturn results\n",
    "\n",
    "result = search(Q1_question)\n",
    "result"
   ]
  }
 ],
 "metadata": {
  "kernelspec": {
   "display_name": ".venv",
   "language": "python",
   "name": "python3"
  },
  "language_info": {
   "codemirror_mode": {
    "name": "ipython",
    "version": 3
   },
   "file_extension": ".py",
   "mimetype": "text/x-python",
   "name": "python",
   "nbconvert_exporter": "python",
   "pygments_lexer": "ipython3",
   "version": "3.11.9"
  }
 },
 "nbformat": 4,
 "nbformat_minor": 5
}
